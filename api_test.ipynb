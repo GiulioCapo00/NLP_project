{
 "cells": [
  {
   "cell_type": "code",
   "execution_count": 9,
   "id": "88d3021f",
   "metadata": {},
   "outputs": [],
   "source": [
    "from openai import OpenAI\n",
    "import json\n",
    "import re\n",
    "from datasets import load_dataset\n",
    "from dotenv import load_dotenv\n",
    "import os"
   ]
  },
  {
   "cell_type": "code",
   "execution_count": 10,
   "id": "c074c490-b055-438f-a62d-05500d81ccb5",
   "metadata": {},
   "outputs": [],
   "source": [
    "load_dotenv()\n",
    "\n",
    "key = os.getenv(\"API_KEY\")\n",
    "client = OpenAI(api_key=key, base_url=\"https://api.deepseek.com\")"
   ]
  },
  {
   "cell_type": "code",
   "execution_count": 11,
   "id": "8319e26a-3f93-4da3-882a-8f71d3603aa3",
   "metadata": {},
   "outputs": [],
   "source": [
    "dataset = load_dataset(\"eriktks/conll2003\")\n",
    "#print(dataset['train']['id'])\n",
    "#print(dataset['train']['tokens'])\n",
    "#print(dataset['train']['pos_tags'])\n",
    "#print(dataset['train']['chunk_tags'])\n",
    "#print(dataset['train']['ner_tags'][:15])"
   ]
  },
  {
   "cell_type": "code",
   "execution_count": 12,
   "id": "24a8758a-d512-4df7-a449-067534f3e8f9",
   "metadata": {},
   "outputs": [],
   "source": [
    "ner_dict = {'O': 0, 'B-PER': 1, 'I-PER': 2, 'B-ORG': 3, 'I-ORG': 4, 'B-LOC': 5, 'I-LOC': 6, 'B-MISC': 7, 'I-MISC': 8}"
   ]
  },
  {
   "cell_type": "code",
   "execution_count": 13,
   "id": "d011d776-3493-466c-a170-bc8fdf8b80f0",
   "metadata": {},
   "outputs": [],
   "source": [
    "def get_ner_label(value, ner_dict):\n",
    "    for k, v in ner_dict.items():\n",
    "        if v == value:\n",
    "            return k\n",
    "    return None"
   ]
  },
  {
   "cell_type": "code",
   "execution_count": 14,
   "id": "a5dc48e9-b56c-48f1-8097-9ac724c5adec",
   "metadata": {},
   "outputs": [
    {
     "name": "stdout",
     "output_type": "stream",
     "text": [
      "['EU', 'rejects', 'German', 'call', 'to', 'boycott', 'British', 'lamb', '.']\n",
      "['B-ORG', 'O', 'B-MISC', 'O', 'O', 'O', 'B-MISC', 'O', 'O']\n"
     ]
    }
   ],
   "source": [
    "print(dataset['train']['tokens'][0])\n",
    "print([get_ner_label(x, ner_dict) for x in dataset['train']['ner_tags'][0]])"
   ]
  },
  {
   "cell_type": "code",
   "execution_count": null,
   "id": "faab4fc9-35b0-4e51-b029-8dc737ec432a",
   "metadata": {},
   "outputs": [],
   "source": [
    "def send_prompt(prompt):\n",
    "    response = client.chat.completions.create(\n",
    "        model=\"deepseek-chat\",\n",
    "        messages=[\n",
    "            #{\"role\": \"system\", \"content\": \"You are a helpful assistant\"},\n",
    "            {\"role\": \"user\", \"content\": prompt},\n",
    "        ],\n",
    "        stream=False\n",
    "    )\n",
    "\n",
    "    return response.choices[0].message.content"
   ]
  },
  {
   "cell_type": "markdown",
   "id": "24d85a07-81c4-4669-bdae-b4b6049b5261",
   "metadata": {},
   "source": [
    "### VANILLA METHOD"
   ]
  },
  {
   "cell_type": "code",
   "execution_count": null,
   "id": "ba12fa69-06dc-417e-91cc-57947430edb1",
   "metadata": {},
   "outputs": [
    {
     "name": "stdout",
     "output_type": "stream",
     "text": [
      "[('EU', 'B-ORG'), ('rejects', 'O'), ('German', 'B-MISC'), ('call', 'O'), ('to', 'O'), ('boycott', 'O'), ('British', 'B-MISC'), ('lamb', 'O'), ('.', 'O')]\n",
      "[3, 0, 7, 0, 0, 0, 7, 0, 0]\n",
      "[('Peter', 'B-PER'), ('Blackburn', 'I-PER')]\n",
      "[1, 2]\n"
     ]
    }
   ],
   "source": [
    "for sentence in dataset['train']['tokens']:\n",
    "    prompt = f\"Given the entity label set: {list(ner_dict.keys())}.\\n \\\n",
    "        Based on the given entity label set, please recognize the named entities in the given text.\\n \\\n",
    "        Return only a list of tuples with each token and its label, nothing else. For example [('In','O'), ('America','I-LOC'), ('is','O'), ('cold','O'), ...]\\n \\\n",
    "        Text: {\" \".join(sentence)}\"\n",
    "\n",
    "    answer = send_prompt(prompt)\n",
    "    # print(answer)\n",
    "    # tags = re.findall(r\"\\('.*?',\\s*'(.*?)'\\)\", answer)\n",
    "    # tags = [ner_dict[tag] for tag in tags]\n",
    "    # print(tags)\n",
    "    with open(\"vanilla.txt\", \"a\") as file:\n",
    "        file.write(f\"{answer}\\n\")\n"
   ]
  },
  {
   "cell_type": "markdown",
   "id": "3ffa9b71-7193-477c-8e47-4ca2f43f1217",
   "metadata": {},
   "source": [
    "### Q&A"
   ]
  }
 ],
 "metadata": {
  "kernelspec": {
   "display_name": "Python 3",
   "language": "python",
   "name": "python3"
  },
  "language_info": {
   "codemirror_mode": {
    "name": "ipython",
    "version": 3
   },
   "file_extension": ".py",
   "mimetype": "text/x-python",
   "name": "python",
   "nbconvert_exporter": "python",
   "pygments_lexer": "ipython3",
   "version": "3.13.2"
  }
 },
 "nbformat": 4,
 "nbformat_minor": 5
}
