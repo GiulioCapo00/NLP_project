{
 "cells": [
  {
   "cell_type": "code",
   "execution_count": 1,
   "id": "88d3021f",
   "metadata": {},
   "outputs": [],
   "source": [
    "from openai import OpenAI\n",
    "import json\n",
    "import re\n",
    "from datasets import load_dataset\n",
    "from dotenv import load_dotenv\n",
    "import os"
   ]
  },
  {
   "cell_type": "code",
   "execution_count": 2,
   "id": "c074c490-b055-438f-a62d-05500d81ccb5",
   "metadata": {},
   "outputs": [],
   "source": [
    "load_dotenv()\n",
    "\n",
    "key = os.getenv(\"API_KEY\")\n",
    "client = OpenAI(api_key=key, base_url=\"https://api.deepseek.com\")"
   ]
  },
  {
   "cell_type": "code",
   "execution_count": 3,
   "id": "92c98315",
   "metadata": {},
   "outputs": [],
   "source": [
    "dataset = load_dataset(\"eriktks/conll2003\")\n",
    "ner_dict = {'O': 0, 'B-PER': 1, 'I-PER': 2, 'B-ORG': 3, 'I-ORG': 4, 'B-LOC': 5, 'I-LOC': 6, 'B-MISC': 7, 'I-MISC': 8}"
   ]
  },
  {
   "cell_type": "code",
   "execution_count": 6,
   "id": "d011d776-3493-466c-a170-bc8fdf8b80f0",
   "metadata": {},
   "outputs": [],
   "source": [
    "def get_ner_label(value, ner_dict):\n",
    "    for k, v in ner_dict.items():\n",
    "        if v == value:\n",
    "            return k\n",
    "    return None"
   ]
  },
  {
   "cell_type": "code",
   "execution_count": 7,
   "id": "faab4fc9-35b0-4e51-b029-8dc737ec432a",
   "metadata": {},
   "outputs": [],
   "source": [
    "def send_prompt(prompt):\n",
    "    response = client.chat.completions.create(\n",
    "        model=\"deepseek-chat\",\n",
    "        messages=[\n",
    "            #{\"role\": \"system\", \"content\": \"You are a helpful assistant\"},\n",
    "            {\"role\": \"user\", \"content\": prompt},\n",
    "        ],\n",
    "        stream=False\n",
    "    )\n",
    "\n",
    "    return response.choices[0].message.content"
   ]
  },
  {
   "cell_type": "markdown",
   "id": "24d85a07-81c4-4669-bdae-b4b6049b5261",
   "metadata": {},
   "source": [
    "### VANILLA METHOD"
   ]
  },
  {
   "cell_type": "code",
   "execution_count": null,
   "id": "ba12fa69-06dc-417e-91cc-57947430edb1",
   "metadata": {},
   "outputs": [],
   "source": [
    "for sentence in dataset['train']['tokens']:\n",
    "    prompt = f\"Given the entity label set: {list(ner_dict.keys())}.\\n \\\n",
    "        Based on the given entity label set, please recognize the named entities in the given text.\\n \\\n",
    "        Return only a list of tuples with each token and its label, nothing else. For example [('In','O'), ('America','I-LOC'), ('is','O'), ('cold','O'), ...]\\n \\\n",
    "        Text: {\" \".join(sentence)}\"\n",
    "\n",
    "    answer = send_prompt(prompt)\n",
    "    # print(answer)\n",
    "    with open(\"vanilla.txt\", \"a\") as file:\n",
    "        file.write(f\"{answer}\\n\")\n"
   ]
  },
  {
   "cell_type": "markdown",
   "id": "1cc776bb-d269-4f08-8096-72d04003243c",
   "metadata": {},
   "source": [
    "### OUR METHOD 1"
   ]
  },
  {
   "cell_type": "code",
   "execution_count": null,
   "id": "9704fbce-1aab-404c-bf2e-f91846b94f89",
   "metadata": {},
   "outputs": [],
   "source": []
  },
  {
   "cell_type": "markdown",
   "id": "89c6e41a-5021-40a4-9933-6694f1196f0d",
   "metadata": {},
   "source": [
    "### OUR METHOD 2"
   ]
  },
  {
   "cell_type": "markdown",
   "id": "8d6dec93-e421-4f9a-b39a-696129d90766",
   "metadata": {},
   "source": []
  },
  {
   "cell_type": "markdown",
   "id": "3ffa9b71-7193-477c-8e47-4ca2f43f1217",
   "metadata": {},
   "source": [
    "### EVALUATION"
   ]
  },
  {
   "cell_type": "code",
   "execution_count": 15,
   "id": "e243af36",
   "metadata": {},
   "outputs": [],
   "source": [
    "# Evaluation of results\n",
    "import ast\n",
    "from sklearn.metrics import precision_score, recall_score, f1_score\n",
    "\n",
    "def parse_prediction(pred_str, ner_dict):\n",
    "    pred_list = ast.literal_eval(pred_str)\n",
    "    tokens = []\n",
    "    label_ids = []\n",
    "    for token, label in pred_list:\n",
    "        tokens.append(token)\n",
    "        label_ids.append(ner_dict.get(label, 0))\n",
    "    return tokens, label_ids\n",
    "        \n",
    "def f1Score(file_path, dataset, dict=ner_dict):\n",
    "    \"\"\"\n",
    "    Calculate the F1 score for the predictions in the file.\n",
    "    \"\"\"\n",
    "\n",
    "    label_list = list(set(dict.values()))\n",
    "    \n",
    "    with open(file_path, 'r') as f:\n",
    "        predictions = f.readlines()\n",
    "\n",
    "    y_pred = []\n",
    "    y_true = dataset['train']['ner_tags'][:len(predictions)]\n",
    "\n",
    "    for i, pred in enumerate(predictions):\n",
    "\n",
    "        pred_tokens, pred_labels = parse_prediction(pred.strip(), ner_dict)\n",
    "        true_tokens = dataset['train']['tokens'][i]\n",
    "        true_labels = dataset['train']['ner_tags'][i]\n",
    "\n",
    "        aligned_preds = []\n",
    "        pred_idx = 0\n",
    "\n",
    "        if len(pred_labels) != len(true_labels):\n",
    "            for true_token in true_tokens:\n",
    "                if pred_idx < len(pred_tokens) and pred_tokens[pred_idx] == true_token:\n",
    "                    aligned_preds.append(pred_labels[pred_idx])\n",
    "                    pred_idx += 1\n",
    "                else:\n",
    "                    aligned_preds.append(-1)\n",
    "        else:\n",
    "            aligned_preds = pred_labels[:]\n",
    "    \n",
    "        y_pred.append(aligned_preds)\n",
    "\n",
    "\n",
    "    flat_true = [label for seq in y_true for label in seq]\n",
    "    flat_pred = [label for seq in y_pred for label in seq]\n",
    "    \n",
    "    precision = precision_score(flat_true, flat_pred, average='micro', zero_division=0)\n",
    "    recall = recall_score(flat_true, flat_pred, average='micro', zero_division=0)\n",
    "    f1 = f1_score(flat_true, flat_pred, average='micro', zero_division=0)\n",
    "\n",
    "    print(f\"Precision: {precision:.4f}\")\n",
    "    print(f\"Recall:    {recall:.4f}\")\n",
    "    print(f\"F1 Score:  {f1:.4f}\")\n",
    "    return f1"
   ]
  },
  {
   "cell_type": "code",
   "execution_count": 16,
   "id": "46a05d8b-f887-4d1e-bb83-af96d171f5ed",
   "metadata": {},
   "outputs": [
    {
     "name": "stdout",
     "output_type": "stream",
     "text": [
      "Precision: 0.9291\n",
      "Recall:    0.9291\n",
      "F1 Score:  0.9291\n"
     ]
    },
    {
     "data": {
      "text/plain": [
       "0.9290897781463819"
      ]
     },
     "execution_count": 16,
     "metadata": {},
     "output_type": "execute_result"
    }
   ],
   "source": [
    "f1Score(\"vanilla.txt\", dataset, ner_dict)"
   ]
  },
  {
   "cell_type": "code",
   "execution_count": null,
   "id": "9b60d811-bc42-4796-a697-95a219c544f3",
   "metadata": {},
   "outputs": [],
   "source": []
  }
 ],
 "metadata": {
  "kernelspec": {
   "display_name": "Python 3 (ipykernel)",
   "language": "python",
   "name": "python3"
  },
  "language_info": {
   "codemirror_mode": {
    "name": "ipython",
    "version": 3
   },
   "file_extension": ".py",
   "mimetype": "text/x-python",
   "name": "python",
   "nbconvert_exporter": "python",
   "pygments_lexer": "ipython3",
   "version": "3.12.1"
  }
 },
 "nbformat": 4,
 "nbformat_minor": 5
}
