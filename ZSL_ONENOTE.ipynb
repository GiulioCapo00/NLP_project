{
 "cells": [
  {
   "cell_type": "code",
   "execution_count": 1,
   "id": "88d3021f",
   "metadata": {},
   "outputs": [],
   "source": [
    "from openai import OpenAI\n",
    "import json\n",
    "import re\n",
    "from datasets import load_dataset\n",
    "from dotenv import load_dotenv\n",
    "import os\n",
    "import random as rand"
   ]
  },
  {
   "cell_type": "code",
   "execution_count": 4,
   "id": "c074c490-b055-438f-a62d-05500d81ccb5",
   "metadata": {},
   "outputs": [],
   "source": [
    "load_dotenv()\n",
    "\n",
    "key = os.getenv(\"API_KEY\")\n",
    "client = OpenAI(api_key=key, base_url=\"https://api.deepseek.com\")"
   ]
  },
  {
   "cell_type": "code",
   "execution_count": 5,
   "id": "92c98315",
   "metadata": {},
   "outputs": [
    {
     "data": {
      "application/vnd.jupyter.widget-view+json": {
       "model_id": "8ae67515b49541a3be79581d431c43e1",
       "version_major": 2,
       "version_minor": 0
      },
      "text/plain": [
       "README.md:   0%|          | 0.00/22.9k [00:00<?, ?B/s]"
      ]
     },
     "metadata": {},
     "output_type": "display_data"
    },
    {
     "data": {
      "application/vnd.jupyter.widget-view+json": {
       "model_id": "1ee85df92c064edf9c998772728d9186",
       "version_major": 2,
       "version_minor": 0
      },
      "text/plain": [
       "conll2012_ontonotesv5.py:   0%|          | 0.00/32.0k [00:00<?, ?B/s]"
      ]
     },
     "metadata": {},
     "output_type": "display_data"
    },
    {
     "data": {
      "application/vnd.jupyter.widget-view+json": {
       "model_id": "1f5657d897254877ad91a77fc5bbb6c9",
       "version_major": 2,
       "version_minor": 0
      },
      "text/plain": [
       "Downloading data:   0%|          | 0.00/194M [00:00<?, ?B/s]"
      ]
     },
     "metadata": {},
     "output_type": "display_data"
    },
    {
     "data": {
      "application/vnd.jupyter.widget-view+json": {
       "model_id": "476c49dfbad9457f9579d8b3f26e7f16",
       "version_major": 2,
       "version_minor": 0
      },
      "text/plain": [
       "Generating train split:   0%|          | 0/1940 [00:00<?, ? examples/s]"
      ]
     },
     "metadata": {},
     "output_type": "display_data"
    },
    {
     "data": {
      "application/vnd.jupyter.widget-view+json": {
       "model_id": "ea5ee16e4132459a9fa2e9c050982f1c",
       "version_major": 2,
       "version_minor": 0
      },
      "text/plain": [
       "Generating validation split:   0%|          | 0/222 [00:00<?, ? examples/s]"
      ]
     },
     "metadata": {},
     "output_type": "display_data"
    },
    {
     "data": {
      "application/vnd.jupyter.widget-view+json": {
       "model_id": "3a5478f638b040b1948504a3ad0225e4",
       "version_major": 2,
       "version_minor": 0
      },
      "text/plain": [
       "Generating test split:   0%|          | 0/222 [00:00<?, ? examples/s]"
      ]
     },
     "metadata": {},
     "output_type": "display_data"
    }
   ],
   "source": [
    "dataset = load_dataset(\"ontonotes/conll2012_ontonotesv5\", 'english_v4', trust_remote_code=True)\n",
    "ner_dict = {\n",
    "    \"O\": 0,\n",
    "    \"B-PERSON\": 1,\n",
    "    \"I-PERSON\": 2,\n",
    "    \"B-NORP\": 3,\n",
    "    \"I-NORP\": 4,\n",
    "    \"B-FAC\": 5,\n",
    "    \"I-FAC\": 6,\n",
    "    \"B-ORG\": 7,\n",
    "    \"I-ORG\": 8,\n",
    "    \"B-GPE\": 9,\n",
    "    \"I-GPE\": 10,\n",
    "    \"B-LOC\": 11,\n",
    "    \"I-LOC\": 12,\n",
    "    \"B-PRODUCT\": 13,\n",
    "    \"I-PRODUCT\": 14,\n",
    "    \"B-DATE\": 15,\n",
    "    \"I-DATE\": 16,\n",
    "    \"B-TIME\": 17,\n",
    "    \"I-TIME\": 18,\n",
    "    \"B-PERCENT\": 19,\n",
    "    \"I-PERCENT\": 20,\n",
    "    \"B-MONEY\": 21,\n",
    "    \"I-MONEY\": 22,\n",
    "    \"B-QUANTITY\": 23,\n",
    "    \"I-QUANTITY\": 24,\n",
    "    \"B-ORDINAL\": 25,\n",
    "    \"I-ORDINAL\": 26,\n",
    "    \"B-CARDINAL\": 27,\n",
    "    \"I-CARDINAL\": 28,\n",
    "    \"B-EVENT\": 29,\n",
    "    \"I-EVENT\": 30,\n",
    "    \"B-WORK_OF_ART\": 31,\n",
    "    \"I-WORK_OF_ART\": 32,\n",
    "    \"B-LAW\": 33,\n",
    "    \"I-LAW\": 34,\n",
    "    \"B-LANGUAGE\": 35,\n",
    "    \"I-LANGUAGE\": 36\n",
    "}\n"
   ]
  },
  {
   "cell_type": "code",
   "execution_count": 6,
   "id": "e079d216",
   "metadata": {},
   "outputs": [
    {
     "name": "stdout",
     "output_type": "stream",
     "text": [
      "['We', 'respectfully', 'invite', 'you', 'to', 'watch', 'a', 'special', 'edition', 'of', 'Across', 'China', '.']\n",
      "[0, 0, 0, 0, 0, 0, 0, 0, 0, 0, 7, 8, 0]\n"
     ]
    }
   ],
   "source": [
    "print(dataset[\"train\"][0][\"sentences\"][1][\"words\"])\n",
    "print(dataset[\"train\"][0][\"sentences\"][1][\"named_entities\"])"
   ]
  },
  {
   "cell_type": "code",
   "execution_count": 7,
   "id": "d011d776-3493-466c-a170-bc8fdf8b80f0",
   "metadata": {},
   "outputs": [],
   "source": [
    "def get_ner_label(value, ner_dict):\n",
    "    for k, v in ner_dict.items():\n",
    "        if v == value:\n",
    "            return k\n",
    "    return None"
   ]
  },
  {
   "cell_type": "code",
   "execution_count": 8,
   "id": "faab4fc9-35b0-4e51-b029-8dc737ec432a",
   "metadata": {},
   "outputs": [],
   "source": [
    "def send_prompt(prompt):\n",
    "    response = client.chat.completions.create(\n",
    "        model=\"deepseek-chat\",\n",
    "        messages=[\n",
    "            #{\"role\": \"system\", \"content\": \"You are a helpful assistant\"},\n",
    "            {\"role\": \"user\", \"content\": prompt},\n",
    "        ],\n",
    "        stream=False\n",
    "    )\n",
    "\n",
    "    return response.choices[0].message.content"
   ]
  },
  {
   "cell_type": "code",
   "execution_count": 19,
   "id": "a37b11ca-e896-41fc-890a-3c17613641b0",
   "metadata": {},
   "outputs": [],
   "source": [
    "messages = []\n",
    "\n",
    "def send_prompt_conversation(prompt):\n",
    "    messages.append({\"role\": \"user\", \"content\": prompt})\n",
    "    response = client.chat.completions.create(\n",
    "        model=\"deepseek-chat\", \n",
    "        messages=messages\n",
    "    )\n",
    "    reply = response.choices[0].message.content\n",
    "    #print(\"Bot:\", reply)\n",
    "    messages.append({\"role\": \"assistant\", \"content\": reply})\n",
    "    return reply"
   ]
  },
  {
   "cell_type": "markdown",
   "id": "24d85a07-81c4-4669-bdae-b4b6049b5261",
   "metadata": {},
   "source": [
    "### VANILLA METHOD"
   ]
  },
  {
   "cell_type": "code",
   "execution_count": null,
   "id": "ba12fa69-06dc-417e-91cc-57947430edb1",
   "metadata": {},
   "outputs": [],
   "source": [
    "for line in dataset['train'][0][\"sentences\"][0:100]:\n",
    "    # prompt = f\"Given the entity label set: {list(ner_dict.keys())}.\\n \\\n",
    "    #     Based on the given entity label set, please recognize the named entities in the given text.\\n \\\n",
    "    #     Return only a list of tuples with each token and its label without explenation. Your output must be in the format: [('In','O'), ('America','I-LOC'), ('is','O'), ('cold','O'), ...]; nothing else\\n \\\n",
    "    #     Text: {\" \".join(sentence)}\"\n",
    "    sentence = line[\"words\"]\n",
    "    prompt = f\"Given the entity label set: {list(ner_dict.keys())}.\\n \\\n",
    "    Based on the given entity label set, please recognize the named entities in the given text.\\n \\\n",
    "    Return only a list of tuples with each token and its label without explenation. Your output must be in the format: [('In','O'), ('America','I-LOC'), ('is','O'), ('cold','O'), ...]; nothing else\\n \\\n",
    "    Text: \\n {\" \".join(sentence)}\"\n",
    "\n",
    "    answer = send_prompt(prompt)\n",
    "    # print(answer)\n",
    "    with open(\"vanilla_v3_nd.txt\", \"a\") as file:\n",
    "        file.write(f\"{answer}\\n\")\n"
   ]
  },
  {
   "cell_type": "markdown",
   "id": "1cc776bb-d269-4f08-8096-72d04003243c",
   "metadata": {},
   "source": [
    "### ROLE PLAY METHOD"
   ]
  },
  {
   "cell_type": "code",
   "execution_count": 43,
   "id": "9704fbce-1aab-404c-bf2e-f91846b94f89",
   "metadata": {},
   "outputs": [],
   "source": [
    "for line in dataset['train'][0][\"sentences\"][0:100]:\n",
    "    sentence = line[\"words\"]\n",
    "    prompt = f\"You are a linguist expert professor. \\\n",
    "        You have a PHD and a post-doc in name entity recognition and you have been working with this in the past 20 years.\\\n",
    "        You are the best in the world at this task. You are creating a new NER dataset and you are labeling some sentences tokens.\\\n",
    "        Based on the given entity label set: {list(ner_dict.keys())}, \\\n",
    "        you are going to recognize the named entities in the given sentence.\\n \\\n",
    "        You are going to return only a list of tuples with each token and its label without explenation. Your output must be in the format: [('In','O'), ('America','I-LOC'), ('is','O'), ('cold','O'), ...]; nothing else\\n \\\n",
    "        Sentence: \\n {\" \".join(sentence)}\"\n",
    "\n",
    "    answer = send_prompt(prompt)\n",
    "    # print(answer)\n",
    "    with open(\"role_play_nd.txt\", \"a\", encoding=\"utf-8\") as file:\n",
    "        file.write(f\"{answer}\\n\")"
   ]
  },
  {
   "cell_type": "markdown",
   "id": "89c6e41a-5021-40a4-9933-6694f1196f0d",
   "metadata": {},
   "source": [
    "### CHAIN OF THOUGHT"
   ]
  },
  {
   "cell_type": "code",
   "execution_count": null,
   "id": "75889cfa",
   "metadata": {},
   "outputs": [],
   "source": [
    "for line in dataset['train'][0][\"sentences\"][0:100]:\n",
    "    \n",
    "    sentence = line[\"words\"]\n",
    "    prompt = f\"Given the entity label set: {list(ner_dict.keys())}.\\n \\\n",
    "        Based on the given entity label set, please recognize the named entities in the given text and show your reasoning step by step for how you identify each entity.\\n \\\n",
    "        You must conclude your reasoning by returning a list of tuples with each token and its label. \\\n",
    "        At the left and right of the list insert a '$' symbol. For example $[('In','O'), ('America','I-LOC'), ('is','O'), ('cold','O'), ...]$\\n \\\n",
    "        You must return the list with the shown format only one time and no more. \\\n",
    "        Text: \\n {\" \".join(sentence)}\"\n",
    "\n",
    "    answer = send_prompt(prompt)\n",
    "    # print(answer)\n",
    "    with open(\"COT_nd.txt\", \"a\", encoding=\"utf-8\") as file:\n",
    "        file.write(f\"{answer}\\n\")"
   ]
  },
  {
   "cell_type": "markdown",
   "id": "bcadd1db",
   "metadata": {},
   "source": [
    "### ROLE PLAY METHOD + CHAIN OF THOUGHT"
   ]
  },
  {
   "cell_type": "code",
   "execution_count": null,
   "id": "a9b6b248",
   "metadata": {},
   "outputs": [],
   "source": [
    "for line in dataset['train'][0][\"sentences\"][0:100]:\n",
    "    \n",
    "    sentence = line[\"words\"]\n",
    "    prompt = f\"You are a linguist expert professor. \\\n",
    "        You have a PHD and a post-doc in name entity recognition and you have been working with this in the past 20 years.\\\n",
    "        You are the best in the world at this task. You are creating a new NER dataset and you are labeling some sentences tokens.\\\n",
    "        Based on the given entity label set: {list(ner_dict.keys())}, \\\n",
    "        you are going to recognize the named entities in the given sentence and show your reasoning step by step for how you identify each entity.\\n \\\n",
    "        You must conclude your reasoning by returning a list of tuples with each token and its label. \\\n",
    "        At the left and right of the list insert a '$' symbol. For example $[('In','O'), ('America','I-LOC'), ('is','O'), ('cold','O'), ...]$\\n \\\n",
    "        You must return the list with the shown format only one time and not more. \\\n",
    "        The sentence is: \\n {\" \".join(sentence)}\"\n",
    "\n",
    "    answer = send_prompt(prompt)\n",
    "    print(prompt)\n",
    "    with open(\"role_playand_COT_nd.txt\", \"a\", encoding=\"utf-8\") as file:\n",
    "        file.write(f\"{answer}\\n\")"
   ]
  },
  {
   "cell_type": "markdown",
   "id": "8aa6e47d",
   "metadata": {},
   "source": [
    "### Divided inputs\n"
   ]
  },
  {
   "cell_type": "code",
   "execution_count": 45,
   "id": "34025b42",
   "metadata": {},
   "outputs": [],
   "source": [
    "for line in dataset['train'][0][\"sentences\"][0:100]:\n",
    "    sentence = line[\"words\"]\n",
    "    prompt = f\"Take as input the sentence: \\n  {' '.join(sentence)}  \\n \\\n",
    "        --Break it down into its tokens and return them as a list. \\\n",
    "        The tokens will be used for a named entity recognition task.\\n\"\n",
    "\n",
    "    send_prompt_conversation(prompt)\n",
    "\n",
    "    prompt_2 = f\"Given the entity label set: {list(ner_dict.keys())},\\n \\\n",
    "                based on the tokens you found in the previous step, \\\n",
    "                please recognize the named entities in the given text and return a list of tuples with each token and its label. \\\n",
    "                Return only the list in the format: [('In','O'), ('America','I-LOC'), ('is','O'), ('cold','O'), ...]  \\\n",
    "                Do not return any explanation or additional text.\\n.\"\n",
    "    \n",
    "    send_prompt_conversation(prompt_2)\n",
    "\n",
    "    with open(\"divided_inputs_nd.txt\", \"a\") as file:\n",
    "        file.write(f\"{messages[3][\"content\"]}\\n\")\n",
    "    \n",
    "    messages = []\n"
   ]
  },
  {
   "cell_type": "markdown",
   "id": "aea1de51",
   "metadata": {},
   "source": [
    "### Self validating"
   ]
  },
  {
   "cell_type": "code",
   "execution_count": 53,
   "id": "326e8af8",
   "metadata": {},
   "outputs": [],
   "source": [
    "messages = []\n",
    "\n",
    "for line in dataset['train'][0][\"sentences\"][89:100]:\n",
    "    sentence = line[\"words\"]\n",
    "    prompt = f\"Given the entity label set: {list(ner_dict.keys())}.\\n \\\n",
    "        Based on the given entity label set, please recognize the named entities in the given text.\\n \\\n",
    "        Return only a list of tuples with each token and its label without explenation. Your output must be in the format: [('In','O'), ('America','I-LOC'), ('is','O'), ('cold','O'), ...]; nothing else\\n \\\n",
    "        Text: \\n {\" \".join(sentence)}\"\n",
    "\n",
    "    send_prompt_conversation(prompt)\n",
    "\n",
    "    prompt_2 = f\"Please carefully review your previous answer and correct any possible mistakes. \\\n",
    "    Keep the same output structure: a list of tuples in this format: \\\n",
    "    [('In','O'), ('America','I-LOC'), ('is','O'), ('cold','O'), ...] \\\n",
    "    Do not return any explanation or additional text.\\n.\"   \n",
    "    send_prompt_conversation(prompt_2)\n",
    "\n",
    "    with open(\"self_validating_nd.txt\", \"a\") as file:\n",
    "        file.write(f\"{messages[3][\"content\"]}\\n\")\n",
    "    \n",
    "    messages = []"
   ]
  },
  {
   "cell_type": "code",
   "execution_count": 14,
   "id": "f3a7eecb-f2fc-4e48-8f95-0994f1ac8425",
   "metadata": {},
   "outputs": [],
   "source": [
    "for line in dataset['train'][0][\"sentences\"][74:100]:\n",
    "    sentence = line[\"words\"]\n",
    "    prompt = f\"Given the entity label set: {list(ner_dict.keys())}.\\n \\\n",
    "    Based on the given entity label set, please recognize the named entities in the given text.\\n \\\n",
    "    Return only a list of tuples with each token and its label without explenation. Your output must be in the format: [('\\\"','O'),('In','O'), ('America','I-LOC'), ('is','O'), ('cold','O'), ...]; nothing else\\n \\\n",
    "    Also, if you fail to identify all entities correctly, I will have to exchange you for another LLM and not use your help ever again. \\\n",
    "    Text: {\" \".join(sentence)}\"\n",
    "\n",
    "    answer = send_prompt(prompt)\n",
    "    # print(answer)\n",
    "    with open(\"threat_nd.txt\", \"a\") as file:\n",
    "        file.write(f\"{answer}\\n\")"
   ]
  },
  {
   "cell_type": "code",
   "execution_count": 21,
   "id": "82ef967c-4a48-4123-bb4d-d012ac9ce8e9",
   "metadata": {},
   "outputs": [],
   "source": [
    "def align_spans_to_bio(tokens, spans_list, ner_dict):\n",
    "\n",
    "    bio_labels_str = [\"O\"] * len(tokens)\n",
    "    \n",
    "    for span_text, span_label in spans_list:\n",
    "\n",
    "        span_tokens = span_text.split(\" \")\n",
    "        n = len(span_tokens)\n",
    "        \n",
    "        for i in range(len(tokens) - n + 1):\n",
    "            if tokens[i:i+n] == span_tokens:\n",
    "\n",
    "                bio_labels_str[i] = f\"B-{span_label}\"\n",
    "                for j in range(1, n):\n",
    "                    bio_labels_str[i+j] = f\"I-{span_label}\"\n",
    "                break\n",
    "\n",
    "    bio_ints = [ ner_dict.get(lbl, ner_dict[\"O\"]) for lbl in bio_labels_str ]\n",
    "    return bio_ints\n",
    "\n",
    "\n",
    "for line in dataset['train'][0][\"sentences\"][15:100]:\n",
    "\n",
    "    sentence = line[\"words\"]\n",
    "    text = \" \".join(sentence)\n",
    "    labels = [ label for label in ner_dict.keys() if label.startswith(\"B-\") ]\n",
    "    label_names = [ lbl.split(\"-\", 1)[1] for lbl in labels ]\n",
    "    merged_tags_str = [\"O\"] * len(sentence)\n",
    "\n",
    "    for label_name in label_names:\n",
    "    \n",
    "        prompt = f\"\"\"\n",
    "\n",
    "            You are a zero‐shot NER system with chain‐of‐thought reasoning.\n",
    "            Your task: extract all spans of type \"{label_name}\" from the text below.\n",
    "\n",
    "            Think step by step:\n",
    "                1. First, look at each token (and consecutive tokens) to see if they look like a proper name for \"{label_name}\".\n",
    "                2. If you’re unsure whether a multi‐word chunk belongs to \"{label_name}\", explain briefly your logic.\n",
    "                3. After thinking, return a list of tuples:  \n",
    "                   [(\"span1_token1 span1_token2 …\", \"{label_name}\"), ...]  \n",
    "                   Example: [(\"New York City\", \"LOC\"), (\"Paris\", \"LOC\")].  \n",
    "                   Do not include any token‐level B- ou I- tags here, only text spans + type.\n",
    "\n",
    "            Rules:\n",
    "                - List only spans that appear exactly in the text (case‐sensitive, white‐space sensitive, punctuation).  \n",
    "                - Do not invent any span not present in the text.  \n",
    "                - If an entity has multiple tokens (ex.: “New York City”), return them all together.\n",
    "                - Do not add any extra commentary outside the list of tuples. Format exactly as [(…), …].\n",
    "\n",
    "            Text: {text}\n",
    "\n",
    "            Return your reasoning steps followed by exactly one line with the list of spans (nothing else).\n",
    "        \n",
    "        \"\"\"\n",
    "\n",
    "        answer = send_prompt_conversation(prompt)\n",
    "    \n",
    "        m = re.search(r\"\\[.*\\]\", answer, re.DOTALL)\n",
    "        spans_list = []\n",
    "        if m:\n",
    "            spans_list = ast.literal_eval(m.group(0))\n",
    "    \n",
    "        bio_ints_for_label = align_spans_to_bio(sentence, spans_list, ner_dict)\n",
    "    \n",
    "        bio_labels_str_for_label = [\n",
    "            list(ner_dict.keys())[list(ner_dict.values()).index(idx)] \n",
    "            for idx in bio_ints_for_label\n",
    "        ]\n",
    "    \n",
    "        for i, lbl in enumerate(bio_labels_str_for_label):\n",
    "                if lbl != \"O\":\n",
    "                    merged_tags_str[i] = lbl\n",
    "\n",
    "    #merged_ints = [ ner_dict.get(tag, ner_dict[\"O\"]) for tag in merged_tags_str ]\n",
    "        \n",
    "    output_pairs = [(sentence[i], merged_tags_str[i]) for i in range(len(sentence))]\n",
    "    with open(\"decomp_cot_results_nd.txt\", \"a\", encoding=\"utf8\") as file:\n",
    "        file.write(f\"{output_pairs}\\n\")\n",
    "    \n",
    "    messages = []"
   ]
  },
  {
   "cell_type": "markdown",
   "id": "3ffa9b71-7193-477c-8e47-4ca2f43f1217",
   "metadata": {},
   "source": [
    "### EVALUATION"
   ]
  },
  {
   "cell_type": "code",
   "execution_count": 11,
   "id": "e243af36",
   "metadata": {},
   "outputs": [],
   "source": [
    "# Evaluation of results\n",
    "import ast\n",
    "from sklearn.metrics import precision_score, recall_score, f1_score\n",
    "\n",
    "def parse_prediction(pred_str, ner_dict):\n",
    "    pred_list = ast.literal_eval(pred_str)\n",
    "    tokens = []\n",
    "    label_ids = []\n",
    "    for token, label in pred_list:\n",
    "        tokens.append(token)\n",
    "        label_ids.append(ner_dict.get(label, 0))\n",
    "    return tokens, label_ids\n",
    "\n",
    "    \n",
    "def f1Score(file_path, dataset, dict=ner_dict):\n",
    "    \"\"\"\n",
    "    Calculate the F1 score for the predictions in the file.\n",
    "    \"\"\"\n",
    "    \n",
    "    with open(file_path, 'r') as f:\n",
    "        content = f.read()\n",
    "    \n",
    "    predictions = re.findall(r'(\\[.*?\\])', content, re.DOTALL)\n",
    "    # predictions = []\n",
    "    # for pred in predictions_with_duplicates:\n",
    "    #     if pred not in predictions:\n",
    "    #         predictions.append(pred)\n",
    "    y_pred = []\n",
    "    sentences = dataset[\"train\"][0][\"sentences\"]\n",
    "    y_true = [sentences[i][\"named_entities\"] for i in range(len(predictions))]\n",
    "\n",
    "    for i, pred in enumerate(predictions):\n",
    "\n",
    "        pred_tokens, pred_labels = parse_prediction(pred.strip(), ner_dict)\n",
    "        # print(f\"Pred tokens: {pred_tokens}\")\n",
    "        # print(f\"Pred labels: {pred_labels}\")\n",
    "        true_tokens = dataset['train'][0][\"sentences\"][i][\"words\"]\n",
    "        true_labels = dataset['train'][0][\"sentences\"][i][\"named_entities\"]\n",
    "        # print(f\"True tokens: {true_tokens}\")\n",
    "        # print(f\"True labels: {true_labels}\")\n",
    "\n",
    "        aligned_preds = []\n",
    "        pred_idx = 0\n",
    "\n",
    "        if len(pred_labels) != len(true_labels):\n",
    "            for true_token in true_tokens:\n",
    "                if pred_idx < len(pred_tokens) and pred_tokens[pred_idx] == true_token:\n",
    "                    aligned_preds.append(pred_labels[pred_idx])\n",
    "                    pred_idx += 1\n",
    "                else:\n",
    "                    aligned_preds.append(-1)\n",
    "        else:\n",
    "            aligned_preds = pred_labels[:]\n",
    "    \n",
    "        y_pred.append(aligned_preds)\n",
    "\n",
    "\n",
    "    flat_true = [label for seq in y_true for label in seq]\n",
    "    flat_pred = [label for seq in y_pred for label in seq]\n",
    "    #print(f\"Flat true: {flat_true}\")\n",
    "    #print(f\"Flat pred: {flat_pred}\")\n",
    "    \n",
    "    precision = precision_score(flat_true, flat_pred, labels=[0,1,2,3,4,5,6,7,8], average='micro', zero_division=0)\n",
    "    recall = recall_score(flat_true, flat_pred, labels=[0,1,2,3,4,5,6,7,8], average='micro', zero_division=0)\n",
    "    f1 = f1_score(flat_true, flat_pred, labels=[0,1,2,3,4,5,6,7,8], average='micro', zero_division=0)\n",
    "\n",
    "    print(f\"Precision: {precision:.4f}\")\n",
    "    print(f\"Recall:    {recall:.4f}\")\n",
    "    print(f\"F1 Score:  {f1:.4f}\")\n",
    "    return f1\n",
    "\n",
    "def f1Score_dollar(file_path, dataset, dict=ner_dict):\n",
    "    \"\"\"\n",
    "    Calculate the F1 score for the predictions in the file,\n",
    "    extracting only the string between two '$' symbols.\n",
    "    \"\"\"\n",
    "    \n",
    "    label_list = list(set(dict.values()))\n",
    "    \n",
    "    with open(file_path, 'r') as f:\n",
    "        content = f.read()\n",
    "    \n",
    "    predictions = re.findall(r'\\$(\\[.*?\\])\\$', content, re.DOTALL)\n",
    "    # predictions = []\n",
    "    # for pred in predictions_with_duplicates:\n",
    "    #     if pred not in predictions:\n",
    "    #         predictions.append(pred)\n",
    "    y_pred = []\n",
    "    sentences = dataset[\"train\"][0][\"sentences\"]\n",
    "    y_true = [sentences[i][\"named_entities\"] for i in range(len(predictions))]\n",
    "\n",
    "    for i, pred in enumerate(predictions):\n",
    "\n",
    "        pred_tokens, pred_labels = parse_prediction(pred.strip(), ner_dict)\n",
    "        # print(f\"Pred tokens: {pred_tokens}\")\n",
    "        # print(f\"Pred labels: {pred_labels}\")\n",
    "        true_tokens = dataset['train'][0][\"sentences\"][i][\"words\"]\n",
    "        true_labels = dataset['train'][0][\"sentences\"][i][\"named_entities\"]\n",
    "        # print(f\"True tokens: {true_tokens}\")\n",
    "        # print(f\"True labels: {true_labels}\")\n",
    "\n",
    "        aligned_preds = []\n",
    "        pred_idx = 0\n",
    "\n",
    "        if len(pred_labels) != len(true_labels):\n",
    "            for true_token in true_tokens:\n",
    "                if pred_idx < len(pred_tokens) and pred_tokens[pred_idx] == true_token:\n",
    "                    aligned_preds.append(pred_labels[pred_idx])\n",
    "                    pred_idx += 1\n",
    "                else:\n",
    "                    aligned_preds.append(-1)\n",
    "        else:\n",
    "            aligned_preds = pred_labels[:]\n",
    "    \n",
    "        y_pred.append(aligned_preds)\n",
    "\n",
    "\n",
    "    flat_true = [label for seq in y_true for label in seq]\n",
    "    flat_pred = [label for seq in y_pred for label in seq]\n",
    "    #print(f\"Flat true: {flat_true}\")\n",
    "    #print(f\"Flat pred: {flat_pred}\")\n",
    "    \n",
    "    precision = precision_score(flat_true, flat_pred, labels=[0,1,2,3,4,5,6,7,8], average='micro', zero_division=0)\n",
    "    recall = recall_score(flat_true, flat_pred, labels=[0,1,2,3,4,5,6,7,8], average='micro', zero_division=0)\n",
    "    f1 = f1_score(flat_true, flat_pred, labels=[0,1,2,3,4,5,6,7,8], average='micro', zero_division=0)\n",
    "\n",
    "    print(f\"Precision: {precision:.4f}\")\n",
    "    print(f\"Recall:    {recall:.4f}\")\n",
    "    print(f\"F1 Score:  {f1:.4f}\")\n",
    "    return f1\n"
   ]
  },
  {
   "cell_type": "code",
   "execution_count": 22,
   "id": "46a05d8b-f887-4d1e-bb83-af96d171f5ed",
   "metadata": {},
   "outputs": [
    {
     "name": "stdout",
     "output_type": "stream",
     "text": [
      "\n",
      "Vanilla v3 NER F1 Score:\n",
      "Precision: 0.9022\n",
      "Recall:    0.9249\n",
      "F1 Score:  0.9134\n",
      "\n",
      "Role Play NER F1 Score:\n",
      "Precision: 0.8961\n",
      "Recall:    0.9090\n",
      "F1 Score:  0.9025\n",
      "\n",
      "COT NER F1 Score:\n",
      "Precision: 0.9073\n",
      "Recall:    0.9460\n",
      "F1 Score:  0.9263\n",
      "\n",
      "Role Play and COT NER F1 Score:\n",
      "Precision: 0.8989\n",
      "Recall:    0.9147\n",
      "F1 Score:  0.9067\n",
      "\n",
      "Divided Inputs NER F1 Score:\n",
      "Precision: 0.9015\n",
      "Recall:    0.9126\n",
      "F1 Score:  0.9070\n",
      "\n",
      "Self Validating NER F1 Score:\n",
      "Precision: 0.9008\n",
      "Recall:    0.9296\n",
      "F1 Score:  0.9150\n",
      "\n",
      "Theat F1 Score:\n",
      "Precision: 0.8930\n",
      "Recall:    0.9100\n",
      "F1 Score:  0.9015\n",
      "\n",
      "CoT + Decomposition F1 Score:\n",
      "Precision: 0.8836\n",
      "Recall:    0.8231\n",
      "F1 Score:  0.8523\n"
     ]
    },
    {
     "data": {
      "text/plain": [
       "0.8522757519297312"
      ]
     },
     "execution_count": 22,
     "metadata": {},
     "output_type": "execute_result"
    }
   ],
   "source": [
    "print(\"\\nVanilla v3 NER F1 Score:\")\n",
    "f1Score(\"vanilla_v3_nd.txt\", dataset, ner_dict)\n",
    "print(\"\\nRole Play NER F1 Score:\")\n",
    "f1Score(\"role_play_nd.txt\", dataset, ner_dict)\n",
    "print(\"\\nCOT NER F1 Score:\")\n",
    "f1Score_dollar(\"COT_nd.txt\", dataset, ner_dict)\n",
    "print(\"\\nRole Play and COT NER F1 Score:\")\n",
    "f1Score_dollar(\"role_playand_COT_nd.txt\", dataset, ner_dict)\n",
    "print(\"\\nDivided Inputs NER F1 Score:\")\n",
    "f1Score(\"divided_inputs_nd.txt\", dataset, ner_dict)\n",
    "print(\"\\nSelf Validating NER F1 Score:\")\n",
    "f1Score(\"self_validating_nd.txt\", dataset, ner_dict)\n",
    "print(\"\\nTheat F1 Score:\")\n",
    "f1Score(\"threat_nd.txt\", dataset, ner_dict)\n",
    "print(\"\\nCoT + Decomposition F1 Score:\")\n",
    "f1Score(\"decomp_cot_results_nd.txt\", dataset, ner_dict)"
   ]
  },
  {
   "cell_type": "code",
   "execution_count": null,
   "id": "9b60d811-bc42-4796-a697-95a219c544f3",
   "metadata": {},
   "outputs": [],
   "source": []
  }
 ],
 "metadata": {
  "kernelspec": {
   "display_name": "Python 3 (ipykernel)",
   "language": "python",
   "name": "python3"
  },
  "language_info": {
   "codemirror_mode": {
    "name": "ipython",
    "version": 3
   },
   "file_extension": ".py",
   "mimetype": "text/x-python",
   "name": "python",
   "nbconvert_exporter": "python",
   "pygments_lexer": "ipython3",
   "version": "3.12.1"
  }
 },
 "nbformat": 4,
 "nbformat_minor": 5
}
