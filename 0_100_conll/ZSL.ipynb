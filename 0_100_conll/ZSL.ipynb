{
 "cells": [
  {
   "cell_type": "code",
   "execution_count": null,
   "id": "88d3021f",
   "metadata": {},
   "outputs": [],
   "source": [
    "from openai import OpenAI\n",
    "import json\n",
    "import re\n",
    "from datasets import load_dataset\n",
    "from dotenv import load_dotenv\n",
    "import os\n",
    "import random as rand"
   ]
  },
  {
   "cell_type": "code",
   "execution_count": null,
   "id": "c074c490-b055-438f-a62d-05500d81ccb5",
   "metadata": {},
   "outputs": [],
   "source": [
    "load_dotenv()\n",
    "\n",
    "key = os.getenv(\"API_KEY\")\n",
    "client = OpenAI(api_key=key, base_url=\"https://api.deepseek.com\")"
   ]
  },
  {
   "cell_type": "code",
   "execution_count": null,
   "id": "92c98315",
   "metadata": {},
   "outputs": [],
   "source": [
    "dataset = load_dataset(\"eriktks/conll2003\")\n",
    "ner_dict = {'O': 0, 'B-PER': 1, 'I-PER': 2, 'B-ORG': 3, 'I-ORG': 4, 'B-LOC': 5, 'I-LOC': 6, 'B-MISC': 7, 'I-MISC': 8}"
   ]
  },
  {
   "cell_type": "code",
   "execution_count": null,
   "id": "d011d776-3493-466c-a170-bc8fdf8b80f0",
   "metadata": {},
   "outputs": [],
   "source": [
    "def get_ner_label(value, ner_dict):\n",
    "    for k, v in ner_dict.items():\n",
    "        if v == value:\n",
    "            return k\n",
    "    return None"
   ]
  },
  {
   "cell_type": "code",
   "execution_count": null,
   "id": "faab4fc9-35b0-4e51-b029-8dc737ec432a",
   "metadata": {},
   "outputs": [],
   "source": [
    "def send_prompt(prompt):\n",
    "    response = client.chat.completions.create(\n",
    "        model=\"deepseek-chat\",\n",
    "        messages=[\n",
    "            #{\"role\": \"system\", \"content\": \"You are a helpful assistant\"},\n",
    "            {\"role\": \"user\", \"content\": prompt},\n",
    "        ],\n",
    "        stream=False\n",
    "    )\n",
    "\n",
    "    return response.choices[0].message.content"
   ]
  },
  {
   "cell_type": "markdown",
   "id": "24d85a07-81c4-4669-bdae-b4b6049b5261",
   "metadata": {},
   "source": [
    "### VANILLA METHOD"
   ]
  },
  {
   "cell_type": "code",
   "execution_count": null,
   "id": "ba12fa69-06dc-417e-91cc-57947430edb1",
   "metadata": {},
   "outputs": [],
   "source": [
    "for sentence in dataset['train']['tokens'][265:350]:\n",
    "    # prompt = f\"Given the entity label set: {list(ner_dict.keys())}.\\n \\\n",
    "    #     Based on the given entity label set, please recognize the named entities in the given text.\\n \\\n",
    "    #     Return only a list of tuples with each token and its label without explenation. Your output must be in the format: [('In','O'), ('America','I-LOC'), ('is','O'), ('cold','O'), ...]; nothing else\\n \\\n",
    "    #     Text: {\" \".join(sentence)}\"\n",
    "\n",
    "    prompt = f\"Given the entity label set: {list(ner_dict.keys())}.\\n \\\n",
    "    Based on the given entity label set, please recognize the named entities in the given text.\\n \\\n",
    "    Return only a list of tuples with each token and its label without explenation. Your output must be in the format: [('In','O'), ('America','I-LOC'), ('is','O'), ('cold','O'), ...]; nothing else\\n \\\n",
    "    Text: \\n {\" \".join(sentence)}\"\n",
    "\n",
    "    answer = send_prompt(prompt)\n",
    "    # print(answer)\n",
    "    with open(\"vanilla_v3_250.txt\", \"a\") as file:\n",
    "        file.write(f\"{answer}\\n\")\n"
   ]
  },
  {
   "cell_type": "markdown",
   "id": "1cc776bb-d269-4f08-8096-72d04003243c",
   "metadata": {},
   "source": [
    "### ROLE PLAY METHOD"
   ]
  },
  {
   "cell_type": "code",
   "execution_count": null,
   "id": "9704fbce-1aab-404c-bf2e-f91846b94f89",
   "metadata": {},
   "outputs": [],
   "source": [
    "for sentence in dataset['train']['tokens'][100:350]:\n",
    "    prompt = f\"You are a linguist expert professor. \\\n",
    "        You have a PHD and a post-doc in name entity recognition and you have been working with this in the past 20 years.\\\n",
    "        You are the best in the world at this task. You are creating a new NER dataset and you are labeling some sentences tokens.\\\n",
    "        Based on the given entity label set: {list(ner_dict.keys())}, \\\n",
    "        you are going to recognize the named entities in the given sentence.\\n \\\n",
    "        You are going to return only a list of tuples with each token and its label without explenation. Your output must be in the format: [('In','O'), ('America','I-LOC'), ('is','O'), ('cold','O'), ...]; nothing else\\n \\\n",
    "        Sentence: \\n {\" \".join(sentence)}\"\n",
    "\n",
    "    answer = send_prompt(prompt)\n",
    "    # print(answer)\n",
    "    with open(\"role_play_250.txt\", \"a\", encoding=\"utf-8\") as file:\n",
    "        file.write(f\"{answer}\\n\")"
   ]
  },
  {
   "cell_type": "markdown",
   "id": "89c6e41a-5021-40a4-9933-6694f1196f0d",
   "metadata": {},
   "source": [
    "### CHAIN OF THOUGHT"
   ]
  },
  {
   "cell_type": "code",
   "execution_count": null,
   "id": "75889cfa",
   "metadata": {},
   "outputs": [],
   "source": [
    "for sentence in dataset['train']['tokens'][100:350]:\n",
    "    prompt = f\"Given the entity label set: {list(ner_dict.keys())}.\\n \\\n",
    "        Based on the given entity label set, please recognize the named entities in the given text and show your reasoning step by step for how you identify each entity.\\n \\\n",
    "        You must conclude your reasoning by returning a list of tuples with each token and its label. \\\n",
    "        At the left and right of the list insert a '$' symbol. For example $[('In','O'), ('America','I-LOC'), ('is','O'), ('cold','O'), ...]$\\n \\\n",
    "        You must return the list with the shown format only one time and no more. \\\n",
    "        Text: \\n {\" \".join(sentence)}\"\n",
    "\n",
    "    answer = send_prompt(prompt)\n",
    "    # print(answer)\n",
    "    with open(\"COT_250.txt\", \"a\", encoding=\"utf-8\") as file:\n",
    "        file.write(f\"{answer}\\n\")"
   ]
  },
  {
   "cell_type": "markdown",
   "id": "bcadd1db",
   "metadata": {},
   "source": [
    "### ROLE PLAY METHOD + CHAIN OF THOUGHT"
   ]
  },
  {
   "cell_type": "code",
   "execution_count": null,
   "id": "a9b6b248",
   "metadata": {},
   "outputs": [],
   "source": [
    "for sentence in dataset['train']['tokens'][100:350]:\n",
    "    prompt = f\"You are a linguist expert professor. \\\n",
    "        You have a PHD and a post-doc in name entity recognition and you have been working with this in the past 20 years.\\\n",
    "        You are the best in the world at this task. You are creating a new NER dataset and you are labeling some sentences tokens.\\\n",
    "        Based on the given entity label set: {list(ner_dict.keys())}, \\\n",
    "        you are going to recognize the named entities in the given sentence and show your reasoning step by step for how you identify each entity.\\n \\\n",
    "        You must conclude your reasoning by returning a list of tuples with each token and its label. \\\n",
    "        At the left and right of the list insert a '$' symbol. For example $[('In','O'), ('America','I-LOC'), ('is','O'), ('cold','O'), ...]$\\n \\\n",
    "        You must return the list with the shown format only one time and not more. \\\n",
    "        The sentence is: \\n {\" \".join(sentence)}\"\n",
    "\n",
    "    answer = send_prompt(prompt)\n",
    "    print(prompt)\n",
    "    with open(\"role_playand_COT_250.txt\", \"a\", encoding=\"utf-8\") as file:\n",
    "        file.write(f\"{answer}\\n\")"
   ]
  },
  {
   "cell_type": "markdown",
   "id": "8aa6e47d",
   "metadata": {},
   "source": [
    "### Divided inputs\n"
   ]
  },
  {
   "cell_type": "code",
   "execution_count": null,
   "id": "34025b42",
   "metadata": {},
   "outputs": [],
   "source": [
    "messages = []\n",
    "\n",
    "def send_prompt_conversation(prompt):\n",
    "    messages.append({\"role\": \"user\", \"content\": prompt})\n",
    "    response = client.chat.completions.create(\n",
    "        model=\"deepseek-chat\", \n",
    "        messages=messages\n",
    "    )\n",
    "    reply = response.choices[0].message.content\n",
    "    #print(\"Bot:\", reply)\n",
    "    messages.append({\"role\": \"assistant\", \"content\": reply})\n",
    "\n",
    "for sentence in dataset['train']['tokens'][100:350]:\n",
    "    prompt = f\"Take as input the sentence: \\n  {' '.join(sentence)}  \\n \\\n",
    "        --Break it down into its tokens and return them as a list. \\\n",
    "        The tokens will be used for a named entity recognition task.\\n\"\n",
    "\n",
    "    send_prompt_conversation(prompt)\n",
    "\n",
    "    prompt_2 = f\"Given the entity label set: {list(ner_dict.keys())},\\n \\\n",
    "                based on the tokens you found in the previous step, \\\n",
    "                please recognize the named entities in the given text and return a list of tuples with each token and its label. \\\n",
    "                Return only the list in the format: [('In','O'), ('America','I-LOC'), ('is','O'), ('cold','O'), ...]  \\\n",
    "                Do not return any explanation or additional text.\\n.\"\n",
    "    \n",
    "    send_prompt_conversation(prompt_2)\n",
    "\n",
    "    with open(\"divided_inputs_250.txt\", \"a\") as file:\n",
    "        file.write(f\"{messages[3][\"content\"]}\\n\")\n",
    "    \n",
    "    messages = []\n"
   ]
  },
  {
   "cell_type": "markdown",
   "id": "aea1de51",
   "metadata": {},
   "source": [
    "### Self validating"
   ]
  },
  {
   "cell_type": "code",
   "execution_count": null,
   "id": "326e8af8",
   "metadata": {},
   "outputs": [],
   "source": [
    "messages = []\n",
    "\n",
    "for sentence in dataset['train']['tokens'][100:350]:\n",
    "    prompt = f\"Given the entity label set: {list(ner_dict.keys())}.\\n \\\n",
    "        Based on the given entity label set, please recognize the named entities in the given text.\\n \\\n",
    "        Return only a list of tuples with each token and its label without explenation. Your output must be in the format: [('In','O'), ('America','I-LOC'), ('is','O'), ('cold','O'), ...]; nothing else\\n \\\n",
    "        Text: \\n {\" \".join(sentence)}\"\n",
    "\n",
    "    send_prompt_conversation(prompt)\n",
    "\n",
    "    prompt_2 = f\"Please carefully review your previous answer and correct any possible mistakes. \\\n",
    "    Keep the same output structure: a list of tuples in this format: \\\n",
    "    [('In','O'), ('America','I-LOC'), ('is','O'), ('cold','O'), ...] \\\n",
    "    Do not return any explanation or additional text.\\n.\"   \n",
    "    send_prompt_conversation(prompt_2)\n",
    "\n",
    "    with open(\"self_validating_250.txt\", \"a\") as file:\n",
    "        file.write(f\"{messages[3][\"content\"]}\\n\")\n",
    "    \n",
    "    messages = []"
   ]
  },
  {
   "cell_type": "markdown",
   "id": "3ffa9b71-7193-477c-8e47-4ca2f43f1217",
   "metadata": {},
   "source": [
    "### EVALUATION"
   ]
  },
  {
   "cell_type": "code",
   "execution_count": null,
   "id": "e243af36",
   "metadata": {},
   "outputs": [],
   "source": [
    "# Evaluation of results\n",
    "import ast\n",
    "from sklearn.metrics import precision_score, recall_score, f1_score\n",
    "\n",
    "def parse_prediction(pred_str, ner_dict):\n",
    "    pred_list = ast.literal_eval(pred_str)\n",
    "    tokens = []\n",
    "    label_ids = []\n",
    "    for token, label in pred_list:\n",
    "        tokens.append(token)\n",
    "        label_ids.append(ner_dict.get(label, 0))\n",
    "    return tokens, label_ids\n",
    "        \n",
    "def f1Score(file_path, dataset, dict=ner_dict):\n",
    "    \"\"\"\n",
    "    Calculate the F1 score for the predictions in the file.\n",
    "    \"\"\"\n",
    "\n",
    "    label_list = list(set(dict.values()))\n",
    "    \n",
    "    with open(file_path, 'r') as f:\n",
    "        content = f.read()\n",
    "    \n",
    "    predictions = re.findall(r'(\\[.*?\\])', content, re.DOTALL)\n",
    "    # predictions = []\n",
    "    # for pred in predictions_with_duplicates:\n",
    "    #     if pred not in predictions:\n",
    "    #         predictions.append(pred)\n",
    "    y_pred = []\n",
    "    y_true = dataset['train']['ner_tags'][:len(predictions)]\n",
    "\n",
    "    for i, pred in enumerate(predictions):\n",
    "\n",
    "        pred_tokens, pred_labels = parse_prediction(pred.strip(), ner_dict)\n",
    "        # print(f\"Pred tokens: {pred_tokens}\")\n",
    "        # print(f\"Pred labels: {pred_labels}\")\n",
    "        true_tokens = dataset['train']['tokens'][i]\n",
    "        true_labels = dataset['train']['ner_tags'][i]\n",
    "        # print(f\"True tokens: {true_tokens}\")\n",
    "        # print(f\"True labels: {true_labels}\")\n",
    "\n",
    "        aligned_preds = []\n",
    "        pred_idx = 0\n",
    "\n",
    "        if len(pred_labels) != len(true_labels):\n",
    "            for true_token in true_tokens:\n",
    "                if pred_idx < len(pred_tokens) and pred_tokens[pred_idx] == true_token:\n",
    "                    aligned_preds.append(pred_labels[pred_idx])\n",
    "                    pred_idx += 1\n",
    "                else:\n",
    "                    aligned_preds.append(-1)\n",
    "        else:\n",
    "            aligned_preds = pred_labels[:]\n",
    "    \n",
    "        y_pred.append(aligned_preds)\n",
    "\n",
    "\n",
    "    flat_true = [label for seq in y_true for label in seq]\n",
    "    flat_pred = [label for seq in y_pred for label in seq]\n",
    "    print(f\"Flat true: {flat_true}\")\n",
    "    print(f\"Flat pred: {flat_pred}\")\n",
    "    \n",
    "    precision = precision_score(flat_true, flat_pred, labels=[0,1,2,3,4,5,6,7,8], average='micro', zero_division=0)\n",
    "    recall = recall_score(flat_true, flat_pred, labels=[0,1,2,3,4,5,6,7,8], average='micro', zero_division=0)\n",
    "    f1 = f1_score(flat_true, flat_pred, labels=[0,1,2,3,4,5,6,7,8], average='micro', zero_division=0)\n",
    "\n",
    "    print(f\"Precision: {precision:.4f}\")\n",
    "    print(f\"Recall:    {recall:.4f}\")\n",
    "    print(f\"F1 Score:  {f1:.4f}\")\n",
    "    return f1\n",
    "\n",
    "def f1Score_dollar(file_path, dataset, dict=ner_dict):\n",
    "    \"\"\"\n",
    "    Calculate the F1 score for the predictions in the file,\n",
    "    extracting only the string between two '$' symbols.\n",
    "    \"\"\"\n",
    "    \n",
    "    label_list = list(set(dict.values()))\n",
    "    \n",
    "    with open(file_path, 'r') as f:\n",
    "        content = f.read()\n",
    "    \n",
    "    predictions = re.findall(r'\\$(\\[.*?\\])\\$', content, re.DOTALL)\n",
    "    # predictions = []\n",
    "    # for pred in predictions_with_duplicates:\n",
    "    #     if pred not in predictions:\n",
    "    #         predictions.append(pred)\n",
    "    y_pred = []\n",
    "    y_true = dataset['train']['ner_tags'][:len(predictions)]\n",
    "\n",
    "    for i, pred in enumerate(predictions):\n",
    "\n",
    "        pred_tokens, pred_labels = parse_prediction(pred.strip(), ner_dict)\n",
    "        # print(f\"Pred tokens: {pred_tokens}\")\n",
    "        # print(f\"Pred labels: {pred_labels}\")\n",
    "        true_tokens = dataset['train']['tokens'][i]\n",
    "        true_labels = dataset['train']['ner_tags'][i]\n",
    "        # print(f\"True tokens: {true_tokens}\")\n",
    "        # print(f\"True labels: {true_labels}\")\n",
    "\n",
    "        aligned_preds = []\n",
    "        pred_idx = 0\n",
    "\n",
    "        if len(pred_labels) != len(true_labels):\n",
    "            for true_token in true_tokens:\n",
    "                if pred_idx < len(pred_tokens) and pred_tokens[pred_idx] == true_token:\n",
    "                    aligned_preds.append(pred_labels[pred_idx])\n",
    "                    pred_idx += 1\n",
    "                else:\n",
    "                    aligned_preds.append(-1)\n",
    "        else:\n",
    "            aligned_preds = pred_labels[:]\n",
    "    \n",
    "        y_pred.append(aligned_preds)\n",
    "\n",
    "\n",
    "    flat_true = [label for seq in y_true for label in seq]\n",
    "    flat_pred = [label for seq in y_pred for label in seq]\n",
    "    print(f\"Flat true: {flat_true}\")\n",
    "    print(f\"Flat pred: {flat_pred}\")\n",
    "    \n",
    "    precision = precision_score(flat_true, flat_pred, labels=[0,1,2,3,4,5,6,7,8], average='micro', zero_division=0)\n",
    "    recall = recall_score(flat_true, flat_pred, labels=[0,1,2,3,4,5,6,7,8], average='micro', zero_division=0)\n",
    "    f1 = f1_score(flat_true, flat_pred, labels=[0,1,2,3,4,5,6,7,8], average='micro', zero_division=0)\n",
    "\n",
    "    print(f\"Precision: {precision:.4f}\")\n",
    "    print(f\"Recall:    {recall:.4f}\")\n",
    "    print(f\"F1 Score:  {f1:.4f}\")\n",
    "    return f1\n"
   ]
  },
  {
   "cell_type": "code",
   "execution_count": null,
   "id": "46a05d8b-f887-4d1e-bb83-af96d171f5ed",
   "metadata": {},
   "outputs": [],
   "source": [
    "# f1Score(\"role_play.txt\", dataset, ner_dict)\n",
    "f1Score(\"vanilla_v3.txt\", dataset, ner_dict)\n",
    "# f1Score_dollar(\"COT.txt\", dataset, ner_dict)\n",
    "# f1Score_dollar(\"role_playand_COT.txt\", dataset, ner_dict)\n",
    "#f1Score(\"divided_inputs.txt\", dataset, ner_dict)\n",
    "f1Score(\"self_validating.txt\", dataset, ner_dict)"
   ]
  }
 ],
 "metadata": {
  "kernelspec": {
   "display_name": "Python 3",
   "language": "python",
   "name": "python3"
  },
  "language_info": {
   "codemirror_mode": {
    "name": "ipython",
    "version": 3
   },
   "file_extension": ".py",
   "mimetype": "text/x-python",
   "name": "python",
   "nbconvert_exporter": "python",
   "pygments_lexer": "ipython3",
   "version": "3.13.2"
  }
 },
 "nbformat": 4,
 "nbformat_minor": 5
}
